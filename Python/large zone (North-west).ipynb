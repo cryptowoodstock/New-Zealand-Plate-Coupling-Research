{
 "cells": [
  {
   "cell_type": "code",
   "execution_count": 24,
   "metadata": {},
   "outputs": [],
   "source": [
    "from shapely.geometry import Point\n",
    "from shapely.geometry import Polygon\n",
    "import numpy as np\n",
    "import matplotlib.pyplot as plt\n",
    "import pandas as pd\n",
    "import plotly.graph_objs as go\n",
    "from plotly.offline import plot, iplot, init_notebook_mode\n",
    "import plotly.express as px\n",
    "\n",
    "with open('NZ_all_m0mw.txt') as f:\n",
    "    array = [[x for x in line.split()] for line in f]\n",
    "cmt_data = np.array(array)"
   ]
  },
  {
   "cell_type": "code",
   "execution_count": 25,
   "metadata": {},
   "outputs": [],
   "source": [
    "zonea = Polygon([(175.5,-42),(174.7,-41.2),(176,-40),(175.5, -39.3),(177,-37),(180,-32.1),(180,-30),(178,-30),(173,-40)])\n",
    "zoneb = Polygon([(-180,-30),(-180,-32.1),(-179,-30)])"
   ]
  },
  {
   "cell_type": "code",
   "execution_count": null,
   "metadata": {},
   "outputs": [],
   "source": []
  },
  {
   "cell_type": "code",
   "execution_count": 26,
   "metadata": {},
   "outputs": [
    {
     "data": {
      "application/vnd.plotly.v1+json": {
       "config": {
        "plotlyServerURL": "https://plot.ly"
       },
       "data": [
        {
         "hovertemplate": "x=%{x}<br>y=%{y}<br>z=%{z}<br>size=%{marker.size}<br>color=%{marker.color}<extra></extra>",
         "legendgroup": "",
         "marker": {
          "color": [
           5.3,
           6,
           5.2,
           5.1,
           5.3,
           6.1,
           5.4,
           5,
           5.4,
           5.1,
           5.5,
           5.4,
           5.2,
           5.4,
           5.1,
           5.3,
           5.4,
           5.2,
           5.6,
           5.2,
           5.2,
           5.3,
           5.6,
           5.6,
           6.1,
           5.8,
           5.4,
           5.6,
           5.4,
           6.4,
           5.9,
           5.8,
           5.4,
           6.3,
           5.7,
           6.1,
           5.5,
           5.7,
           5.4,
           5.7,
           5.6,
           5.3,
           5.7,
           6.2,
           5.4,
           5.4,
           5.6,
           6.3,
           5,
           6.4,
           5.1,
           5.5,
           5.3,
           5.4,
           5,
           6.2,
           5.3,
           5.2,
           5,
           5.2,
           5.8,
           5,
           5.5,
           5.4,
           5.1,
           5.2,
           5.8,
           5.5,
           6,
           6.5,
           5.2,
           5.4,
           5.3,
           5.5,
           5.4,
           6.6,
           6.2,
           6.7,
           6.1,
           5.2,
           5.4,
           5.6,
           6.6,
           5.8,
           5.1,
           5.3,
           6.2,
           5.3,
           5.3,
           5.7,
           6.2,
           5.4,
           5.5,
           6.3,
           5.2,
           5.4,
           6.1,
           5.8,
           6.3,
           5.1,
           5,
           5.2
          ],
          "coloraxis": "coloraxis",
          "size": [
           5.3,
           6,
           5.2,
           5.1,
           5.3,
           6.1,
           5.4,
           5,
           5.4,
           5.1,
           5.5,
           5.4,
           5.2,
           5.4,
           5.1,
           5.3,
           5.4,
           5.2,
           5.6,
           5.2,
           5.2,
           5.3,
           5.6,
           5.6,
           6.1,
           5.8,
           5.4,
           5.6,
           5.4,
           6.4,
           5.9,
           5.8,
           5.4,
           6.3,
           5.7,
           6.1,
           5.5,
           5.7,
           5.4,
           5.7,
           5.6,
           5.3,
           5.7,
           6.2,
           5.4,
           5.4,
           5.6,
           6.3,
           5,
           6.4,
           5.1,
           5.5,
           5.3,
           5.4,
           5,
           6.2,
           5.3,
           5.2,
           5,
           5.2,
           5.8,
           5,
           5.5,
           5.4,
           5.1,
           5.2,
           5.8,
           5.5,
           6,
           6.5,
           5.2,
           5.4,
           5.3,
           5.5,
           5.4,
           6.6,
           6.2,
           6.7,
           6.1,
           5.2,
           5.4,
           5.6,
           6.6,
           5.8,
           5.1,
           5.3,
           6.2,
           5.3,
           5.3,
           5.7,
           6.2,
           5.4,
           5.5,
           6.3,
           5.2,
           5.4,
           6.1,
           5.8,
           6.3,
           5.1,
           5,
           5.2
          ],
          "sizemode": "area",
          "sizeref": 0.01675,
          "symbol": "circle"
         },
         "mode": "markers",
         "name": "",
         "scene": "scene",
         "showlegend": false,
         "type": "scatter3d",
         "x": [
          179.78,
          178.81,
          176.64,
          174.71,
          176.01,
          179.43,
          175.27,
          178.3,
          176.59,
          179.07,
          179.3,
          179.73,
          173.68,
          176.92,
          179.71,
          178.69,
          176.69,
          179.76,
          179.99,
          175.82,
          177.27,
          176.91,
          174.09,
          176.78,
          179.23,
          179.66,
          179.46,
          174.94,
          176.57,
          179.82,
          174.17,
          174.22,
          174.86,
          179.9,
          175.29,
          175.78,
          175.4,
          179.92,
          173.66,
          179.7,
          179.93,
          179.88,
          179.57,
          179.66,
          179.93,
          177.26,
          175.68,
          173.63,
          175.9,
          176.08,
          175.19,
          179.56,
          179.18,
          177.49,
          175.46,
          174.94,
          179.82,
          176.72,
          174.46,
          179.61,
          174.98,
          175.06,
          180.06,
          180.27,
          180.16,
          180.22,
          180.45,
          180.36,
          180.49,
          180.06,
          180.51,
          180.01,
          180.29,
          180.3,
          180.09,
          180.62,
          180.2,
          180.27,
          180.6,
          180.81,
          180.92,
          180.02,
          180.05,
          180.44,
          180.56,
          180.28,
          180.15,
          180.08,
          180.16,
          180.34,
          180.42,
          180.51,
          180.8,
          180.18,
          180.02,
          180.13,
          180.08,
          180.12,
          180.78,
          180.83,
          180.81,
          180.6
         ],
         "y": [
          -31.65,
          -33.89,
          -37.36,
          -39.94,
          -37.92,
          -32.07,
          -40.18,
          -34.66,
          -36.79,
          -32.76,
          -31.52,
          -31.57,
          -40.41,
          -36.75,
          -31.07,
          -33.94,
          -36.95,
          -32.25,
          -31.62,
          -38.13,
          -35.01,
          -36.38,
          -40.54,
          -36.85,
          -32.16,
          -31.63,
          -31.07,
          -40.69,
          -36.89,
          -31.84,
          -40.89,
          -39.46,
          -38.76,
          -31.18,
          -38.47,
          -38.49,
          -38.41,
          -31.57,
          -40.17,
          -31.35,
          -31.55,
          -32.09,
          -32.6,
          -31.47,
          -31.29,
          -36.56,
          -38.63,
          -40.05,
          -38.29,
          -38.31,
          -39.4,
          -31.72,
          -31.6,
          -36.19,
          -39.48,
          -39.07,
          -31.58,
          -36.65,
          -40.63,
          -31.53,
          -40.52,
          -40.43,
          -31.09,
          -30.03,
          -30.39,
          -30.43,
          -30.72,
          -31.17,
          -31.06,
          -31.73,
          -30.39,
          -31.08,
          -31.48,
          -31.25,
          -31.1,
          -30.71,
          -30.98,
          -30.95,
          -30.46,
          -30.13,
          -30.11,
          -31.07,
          -31.42,
          -30.69,
          -30.85,
          -31.01,
          -30.69,
          -31.35,
          -30.69,
          -30.9,
          -30.46,
          -30.08,
          -30.19,
          -30.81,
          -30.84,
          -31.08,
          -30.93,
          -31.83,
          -30.34,
          -30.31,
          -30.15,
          -30.24
         ],
         "z": [
          352,
          282,
          183,
          131,
          293,
          455,
          45,
          188,
          333,
          212,
          425,
          232,
          94,
          39,
          433,
          262,
          360,
          15,
          15,
          169,
          528,
          265,
          114,
          210,
          353,
          370,
          413,
          70,
          283,
          226,
          90,
          216,
          216,
          453,
          276,
          158,
          248,
          356,
          153,
          454,
          428,
          300,
          360,
          437,
          391,
          296,
          159,
          230,
          175,
          165,
          116,
          439,
          509,
          15,
          63,
          226,
          351,
          318,
          88,
          421,
          26,
          48,
          341,
          340,
          319,
          441,
          15,
          15,
          10,
          231,
          231,
          342,
          194,
          247,
          428,
          157,
          398,
          367,
          370,
          16,
          36,
          394,
          367,
          364,
          15,
          298,
          421,
          351,
          412,
          329,
          348,
          351,
          322,
          391,
          418,
          388,
          409,
          297,
          12,
          13,
          16,
          30
         ]
        }
       ],
       "layout": {
        "coloraxis": {
         "colorbar": {
          "title": {
           "text": "color"
          }
         },
         "colorscale": [
          [
           0,
           "#0d0887"
          ],
          [
           0.1111111111111111,
           "#46039f"
          ],
          [
           0.2222222222222222,
           "#7201a8"
          ],
          [
           0.3333333333333333,
           "#9c179e"
          ],
          [
           0.4444444444444444,
           "#bd3786"
          ],
          [
           0.5555555555555556,
           "#d8576b"
          ],
          [
           0.6666666666666666,
           "#ed7953"
          ],
          [
           0.7777777777777778,
           "#fb9f3a"
          ],
          [
           0.8888888888888888,
           "#fdca26"
          ],
          [
           1,
           "#f0f921"
          ]
         ]
        },
        "legend": {
         "itemsizing": "constant",
         "tracegroupgap": 0
        },
        "margin": {
         "t": 60
        },
        "scene": {
         "domain": {
          "x": [
           0,
           1
          ],
          "y": [
           0,
           1
          ]
         },
         "xaxis": {
          "title": {
           "text": "x"
          }
         },
         "yaxis": {
          "title": {
           "text": "y"
          }
         },
         "zaxis": {
          "range": [
           550,
           0
          ],
          "title": {
           "text": "z"
          }
         }
        },
        "template": {
         "data": {
          "bar": [
           {
            "error_x": {
             "color": "#2a3f5f"
            },
            "error_y": {
             "color": "#2a3f5f"
            },
            "marker": {
             "line": {
              "color": "#E5ECF6",
              "width": 0.5
             }
            },
            "type": "bar"
           }
          ],
          "barpolar": [
           {
            "marker": {
             "line": {
              "color": "#E5ECF6",
              "width": 0.5
             }
            },
            "type": "barpolar"
           }
          ],
          "carpet": [
           {
            "aaxis": {
             "endlinecolor": "#2a3f5f",
             "gridcolor": "white",
             "linecolor": "white",
             "minorgridcolor": "white",
             "startlinecolor": "#2a3f5f"
            },
            "baxis": {
             "endlinecolor": "#2a3f5f",
             "gridcolor": "white",
             "linecolor": "white",
             "minorgridcolor": "white",
             "startlinecolor": "#2a3f5f"
            },
            "type": "carpet"
           }
          ],
          "choropleth": [
           {
            "colorbar": {
             "outlinewidth": 0,
             "ticks": ""
            },
            "type": "choropleth"
           }
          ],
          "contour": [
           {
            "colorbar": {
             "outlinewidth": 0,
             "ticks": ""
            },
            "colorscale": [
             [
              0,
              "#0d0887"
             ],
             [
              0.1111111111111111,
              "#46039f"
             ],
             [
              0.2222222222222222,
              "#7201a8"
             ],
             [
              0.3333333333333333,
              "#9c179e"
             ],
             [
              0.4444444444444444,
              "#bd3786"
             ],
             [
              0.5555555555555556,
              "#d8576b"
             ],
             [
              0.6666666666666666,
              "#ed7953"
             ],
             [
              0.7777777777777778,
              "#fb9f3a"
             ],
             [
              0.8888888888888888,
              "#fdca26"
             ],
             [
              1,
              "#f0f921"
             ]
            ],
            "type": "contour"
           }
          ],
          "contourcarpet": [
           {
            "colorbar": {
             "outlinewidth": 0,
             "ticks": ""
            },
            "type": "contourcarpet"
           }
          ],
          "heatmap": [
           {
            "colorbar": {
             "outlinewidth": 0,
             "ticks": ""
            },
            "colorscale": [
             [
              0,
              "#0d0887"
             ],
             [
              0.1111111111111111,
              "#46039f"
             ],
             [
              0.2222222222222222,
              "#7201a8"
             ],
             [
              0.3333333333333333,
              "#9c179e"
             ],
             [
              0.4444444444444444,
              "#bd3786"
             ],
             [
              0.5555555555555556,
              "#d8576b"
             ],
             [
              0.6666666666666666,
              "#ed7953"
             ],
             [
              0.7777777777777778,
              "#fb9f3a"
             ],
             [
              0.8888888888888888,
              "#fdca26"
             ],
             [
              1,
              "#f0f921"
             ]
            ],
            "type": "heatmap"
           }
          ],
          "heatmapgl": [
           {
            "colorbar": {
             "outlinewidth": 0,
             "ticks": ""
            },
            "colorscale": [
             [
              0,
              "#0d0887"
             ],
             [
              0.1111111111111111,
              "#46039f"
             ],
             [
              0.2222222222222222,
              "#7201a8"
             ],
             [
              0.3333333333333333,
              "#9c179e"
             ],
             [
              0.4444444444444444,
              "#bd3786"
             ],
             [
              0.5555555555555556,
              "#d8576b"
             ],
             [
              0.6666666666666666,
              "#ed7953"
             ],
             [
              0.7777777777777778,
              "#fb9f3a"
             ],
             [
              0.8888888888888888,
              "#fdca26"
             ],
             [
              1,
              "#f0f921"
             ]
            ],
            "type": "heatmapgl"
           }
          ],
          "histogram": [
           {
            "marker": {
             "colorbar": {
              "outlinewidth": 0,
              "ticks": ""
             }
            },
            "type": "histogram"
           }
          ],
          "histogram2d": [
           {
            "colorbar": {
             "outlinewidth": 0,
             "ticks": ""
            },
            "colorscale": [
             [
              0,
              "#0d0887"
             ],
             [
              0.1111111111111111,
              "#46039f"
             ],
             [
              0.2222222222222222,
              "#7201a8"
             ],
             [
              0.3333333333333333,
              "#9c179e"
             ],
             [
              0.4444444444444444,
              "#bd3786"
             ],
             [
              0.5555555555555556,
              "#d8576b"
             ],
             [
              0.6666666666666666,
              "#ed7953"
             ],
             [
              0.7777777777777778,
              "#fb9f3a"
             ],
             [
              0.8888888888888888,
              "#fdca26"
             ],
             [
              1,
              "#f0f921"
             ]
            ],
            "type": "histogram2d"
           }
          ],
          "histogram2dcontour": [
           {
            "colorbar": {
             "outlinewidth": 0,
             "ticks": ""
            },
            "colorscale": [
             [
              0,
              "#0d0887"
             ],
             [
              0.1111111111111111,
              "#46039f"
             ],
             [
              0.2222222222222222,
              "#7201a8"
             ],
             [
              0.3333333333333333,
              "#9c179e"
             ],
             [
              0.4444444444444444,
              "#bd3786"
             ],
             [
              0.5555555555555556,
              "#d8576b"
             ],
             [
              0.6666666666666666,
              "#ed7953"
             ],
             [
              0.7777777777777778,
              "#fb9f3a"
             ],
             [
              0.8888888888888888,
              "#fdca26"
             ],
             [
              1,
              "#f0f921"
             ]
            ],
            "type": "histogram2dcontour"
           }
          ],
          "mesh3d": [
           {
            "colorbar": {
             "outlinewidth": 0,
             "ticks": ""
            },
            "type": "mesh3d"
           }
          ],
          "parcoords": [
           {
            "line": {
             "colorbar": {
              "outlinewidth": 0,
              "ticks": ""
             }
            },
            "type": "parcoords"
           }
          ],
          "pie": [
           {
            "automargin": true,
            "type": "pie"
           }
          ],
          "scatter": [
           {
            "marker": {
             "colorbar": {
              "outlinewidth": 0,
              "ticks": ""
             }
            },
            "type": "scatter"
           }
          ],
          "scatter3d": [
           {
            "line": {
             "colorbar": {
              "outlinewidth": 0,
              "ticks": ""
             }
            },
            "marker": {
             "colorbar": {
              "outlinewidth": 0,
              "ticks": ""
             }
            },
            "type": "scatter3d"
           }
          ],
          "scattercarpet": [
           {
            "marker": {
             "colorbar": {
              "outlinewidth": 0,
              "ticks": ""
             }
            },
            "type": "scattercarpet"
           }
          ],
          "scattergeo": [
           {
            "marker": {
             "colorbar": {
              "outlinewidth": 0,
              "ticks": ""
             }
            },
            "type": "scattergeo"
           }
          ],
          "scattergl": [
           {
            "marker": {
             "colorbar": {
              "outlinewidth": 0,
              "ticks": ""
             }
            },
            "type": "scattergl"
           }
          ],
          "scattermapbox": [
           {
            "marker": {
             "colorbar": {
              "outlinewidth": 0,
              "ticks": ""
             }
            },
            "type": "scattermapbox"
           }
          ],
          "scatterpolar": [
           {
            "marker": {
             "colorbar": {
              "outlinewidth": 0,
              "ticks": ""
             }
            },
            "type": "scatterpolar"
           }
          ],
          "scatterpolargl": [
           {
            "marker": {
             "colorbar": {
              "outlinewidth": 0,
              "ticks": ""
             }
            },
            "type": "scatterpolargl"
           }
          ],
          "scatterternary": [
           {
            "marker": {
             "colorbar": {
              "outlinewidth": 0,
              "ticks": ""
             }
            },
            "type": "scatterternary"
           }
          ],
          "surface": [
           {
            "colorbar": {
             "outlinewidth": 0,
             "ticks": ""
            },
            "colorscale": [
             [
              0,
              "#0d0887"
             ],
             [
              0.1111111111111111,
              "#46039f"
             ],
             [
              0.2222222222222222,
              "#7201a8"
             ],
             [
              0.3333333333333333,
              "#9c179e"
             ],
             [
              0.4444444444444444,
              "#bd3786"
             ],
             [
              0.5555555555555556,
              "#d8576b"
             ],
             [
              0.6666666666666666,
              "#ed7953"
             ],
             [
              0.7777777777777778,
              "#fb9f3a"
             ],
             [
              0.8888888888888888,
              "#fdca26"
             ],
             [
              1,
              "#f0f921"
             ]
            ],
            "type": "surface"
           }
          ],
          "table": [
           {
            "cells": {
             "fill": {
              "color": "#EBF0F8"
             },
             "line": {
              "color": "white"
             }
            },
            "header": {
             "fill": {
              "color": "#C8D4E3"
             },
             "line": {
              "color": "white"
             }
            },
            "type": "table"
           }
          ]
         },
         "layout": {
          "annotationdefaults": {
           "arrowcolor": "#2a3f5f",
           "arrowhead": 0,
           "arrowwidth": 1
          },
          "coloraxis": {
           "colorbar": {
            "outlinewidth": 0,
            "ticks": ""
           }
          },
          "colorscale": {
           "diverging": [
            [
             0,
             "#8e0152"
            ],
            [
             0.1,
             "#c51b7d"
            ],
            [
             0.2,
             "#de77ae"
            ],
            [
             0.3,
             "#f1b6da"
            ],
            [
             0.4,
             "#fde0ef"
            ],
            [
             0.5,
             "#f7f7f7"
            ],
            [
             0.6,
             "#e6f5d0"
            ],
            [
             0.7,
             "#b8e186"
            ],
            [
             0.8,
             "#7fbc41"
            ],
            [
             0.9,
             "#4d9221"
            ],
            [
             1,
             "#276419"
            ]
           ],
           "sequential": [
            [
             0,
             "#0d0887"
            ],
            [
             0.1111111111111111,
             "#46039f"
            ],
            [
             0.2222222222222222,
             "#7201a8"
            ],
            [
             0.3333333333333333,
             "#9c179e"
            ],
            [
             0.4444444444444444,
             "#bd3786"
            ],
            [
             0.5555555555555556,
             "#d8576b"
            ],
            [
             0.6666666666666666,
             "#ed7953"
            ],
            [
             0.7777777777777778,
             "#fb9f3a"
            ],
            [
             0.8888888888888888,
             "#fdca26"
            ],
            [
             1,
             "#f0f921"
            ]
           ],
           "sequentialminus": [
            [
             0,
             "#0d0887"
            ],
            [
             0.1111111111111111,
             "#46039f"
            ],
            [
             0.2222222222222222,
             "#7201a8"
            ],
            [
             0.3333333333333333,
             "#9c179e"
            ],
            [
             0.4444444444444444,
             "#bd3786"
            ],
            [
             0.5555555555555556,
             "#d8576b"
            ],
            [
             0.6666666666666666,
             "#ed7953"
            ],
            [
             0.7777777777777778,
             "#fb9f3a"
            ],
            [
             0.8888888888888888,
             "#fdca26"
            ],
            [
             1,
             "#f0f921"
            ]
           ]
          },
          "colorway": [
           "#636efa",
           "#EF553B",
           "#00cc96",
           "#ab63fa",
           "#FFA15A",
           "#19d3f3",
           "#FF6692",
           "#B6E880",
           "#FF97FF",
           "#FECB52"
          ],
          "font": {
           "color": "#2a3f5f"
          },
          "geo": {
           "bgcolor": "white",
           "lakecolor": "white",
           "landcolor": "#E5ECF6",
           "showlakes": true,
           "showland": true,
           "subunitcolor": "white"
          },
          "hoverlabel": {
           "align": "left"
          },
          "hovermode": "closest",
          "mapbox": {
           "style": "light"
          },
          "paper_bgcolor": "white",
          "plot_bgcolor": "#E5ECF6",
          "polar": {
           "angularaxis": {
            "gridcolor": "white",
            "linecolor": "white",
            "ticks": ""
           },
           "bgcolor": "#E5ECF6",
           "radialaxis": {
            "gridcolor": "white",
            "linecolor": "white",
            "ticks": ""
           }
          },
          "scene": {
           "xaxis": {
            "backgroundcolor": "#E5ECF6",
            "gridcolor": "white",
            "gridwidth": 2,
            "linecolor": "white",
            "showbackground": true,
            "ticks": "",
            "zerolinecolor": "white"
           },
           "yaxis": {
            "backgroundcolor": "#E5ECF6",
            "gridcolor": "white",
            "gridwidth": 2,
            "linecolor": "white",
            "showbackground": true,
            "ticks": "",
            "zerolinecolor": "white"
           },
           "zaxis": {
            "backgroundcolor": "#E5ECF6",
            "gridcolor": "white",
            "gridwidth": 2,
            "linecolor": "white",
            "showbackground": true,
            "ticks": "",
            "zerolinecolor": "white"
           }
          },
          "shapedefaults": {
           "line": {
            "color": "#2a3f5f"
           }
          },
          "ternary": {
           "aaxis": {
            "gridcolor": "white",
            "linecolor": "white",
            "ticks": ""
           },
           "baxis": {
            "gridcolor": "white",
            "linecolor": "white",
            "ticks": ""
           },
           "bgcolor": "#E5ECF6",
           "caxis": {
            "gridcolor": "white",
            "linecolor": "white",
            "ticks": ""
           }
          },
          "title": {
           "x": 0.05
          },
          "xaxis": {
           "automargin": true,
           "gridcolor": "white",
           "linecolor": "white",
           "ticks": "",
           "title": {
            "standoff": 15
           },
           "zerolinecolor": "white",
           "zerolinewidth": 2
          },
          "yaxis": {
           "automargin": true,
           "gridcolor": "white",
           "linecolor": "white",
           "ticks": "",
           "title": {
            "standoff": 15
           },
           "zerolinecolor": "white",
           "zerolinewidth": 2
          }
         }
        }
       }
      },
      "text/html": [
       "<div>                            <div id=\"b7f15a85-ed3c-4448-9f72-8546db79f344\" class=\"plotly-graph-div\" style=\"height:525px; width:100%;\"></div>            <script type=\"text/javascript\">                require([\"plotly\"], function(Plotly) {                    window.PLOTLYENV=window.PLOTLYENV || {};                                    if (document.getElementById(\"b7f15a85-ed3c-4448-9f72-8546db79f344\")) {                    Plotly.newPlot(                        \"b7f15a85-ed3c-4448-9f72-8546db79f344\",                        [{\"hovertemplate\": \"x=%{x}<br>y=%{y}<br>z=%{z}<br>size=%{marker.size}<br>color=%{marker.color}<extra></extra>\", \"legendgroup\": \"\", \"marker\": {\"color\": [5.3, 6.0, 5.2, 5.1, 5.3, 6.1, 5.4, 5.0, 5.4, 5.1, 5.5, 5.4, 5.2, 5.4, 5.1, 5.3, 5.4, 5.2, 5.6, 5.2, 5.2, 5.3, 5.6, 5.6, 6.1, 5.8, 5.4, 5.6, 5.4, 6.4, 5.9, 5.8, 5.4, 6.3, 5.7, 6.1, 5.5, 5.7, 5.4, 5.7, 5.6, 5.3, 5.7, 6.2, 5.4, 5.4, 5.6, 6.3, 5.0, 6.4, 5.1, 5.5, 5.3, 5.4, 5.0, 6.2, 5.3, 5.2, 5.0, 5.2, 5.8, 5.0, 5.5, 5.4, 5.1, 5.2, 5.8, 5.5, 6.0, 6.5, 5.2, 5.4, 5.3, 5.5, 5.4, 6.6, 6.2, 6.7, 6.1, 5.2, 5.4, 5.6, 6.6, 5.8, 5.1, 5.3, 6.2, 5.3, 5.3, 5.7, 6.2, 5.4, 5.5, 6.3, 5.2, 5.4, 6.1, 5.8, 6.3, 5.1, 5.0, 5.2], \"coloraxis\": \"coloraxis\", \"size\": [5.3, 6.0, 5.2, 5.1, 5.3, 6.1, 5.4, 5.0, 5.4, 5.1, 5.5, 5.4, 5.2, 5.4, 5.1, 5.3, 5.4, 5.2, 5.6, 5.2, 5.2, 5.3, 5.6, 5.6, 6.1, 5.8, 5.4, 5.6, 5.4, 6.4, 5.9, 5.8, 5.4, 6.3, 5.7, 6.1, 5.5, 5.7, 5.4, 5.7, 5.6, 5.3, 5.7, 6.2, 5.4, 5.4, 5.6, 6.3, 5.0, 6.4, 5.1, 5.5, 5.3, 5.4, 5.0, 6.2, 5.3, 5.2, 5.0, 5.2, 5.8, 5.0, 5.5, 5.4, 5.1, 5.2, 5.8, 5.5, 6.0, 6.5, 5.2, 5.4, 5.3, 5.5, 5.4, 6.6, 6.2, 6.7, 6.1, 5.2, 5.4, 5.6, 6.6, 5.8, 5.1, 5.3, 6.2, 5.3, 5.3, 5.7, 6.2, 5.4, 5.5, 6.3, 5.2, 5.4, 6.1, 5.8, 6.3, 5.1, 5.0, 5.2], \"sizemode\": \"area\", \"sizeref\": 0.01675, \"symbol\": \"circle\"}, \"mode\": \"markers\", \"name\": \"\", \"scene\": \"scene\", \"showlegend\": false, \"type\": \"scatter3d\", \"x\": [179.78, 178.81, 176.64, 174.71, 176.01, 179.43, 175.27, 178.3, 176.59, 179.07, 179.3, 179.73, 173.68, 176.92, 179.71, 178.69, 176.69, 179.76, 179.99, 175.82, 177.27, 176.91, 174.09, 176.78, 179.23, 179.66, 179.46, 174.94, 176.57, 179.82, 174.17, 174.22, 174.86, 179.9, 175.29, 175.78, 175.4, 179.92, 173.66, 179.7, 179.93, 179.88, 179.57, 179.66, 179.93, 177.26, 175.68, 173.63, 175.9, 176.08, 175.19, 179.56, 179.18, 177.49, 175.46, 174.94, 179.82, 176.72, 174.46, 179.61, 174.98, 175.06, 180.06, 180.27, 180.16, 180.22, 180.45, 180.36, 180.49, 180.06, 180.51, 180.01, 180.29, 180.3, 180.09, 180.62, 180.2, 180.27, 180.6, 180.81, 180.92, 180.02, 180.05, 180.44, 180.56, 180.28, 180.15, 180.08, 180.16, 180.34, 180.42, 180.51, 180.8, 180.18, 180.02, 180.13, 180.08, 180.12, 180.78, 180.83, 180.81, 180.6], \"y\": [-31.65, -33.89, -37.36, -39.94, -37.92, -32.07, -40.18, -34.66, -36.79, -32.76, -31.52, -31.57, -40.41, -36.75, -31.07, -33.94, -36.95, -32.25, -31.62, -38.13, -35.01, -36.38, -40.54, -36.85, -32.16, -31.63, -31.07, -40.69, -36.89, -31.84, -40.89, -39.46, -38.76, -31.18, -38.47, -38.49, -38.41, -31.57, -40.17, -31.35, -31.55, -32.09, -32.6, -31.47, -31.29, -36.56, -38.63, -40.05, -38.29, -38.31, -39.4, -31.72, -31.6, -36.19, -39.48, -39.07, -31.58, -36.65, -40.63, -31.53, -40.52, -40.43, -31.09, -30.03, -30.39, -30.43, -30.72, -31.17, -31.06, -31.73, -30.39, -31.08, -31.48, -31.25, -31.1, -30.71, -30.98, -30.95, -30.46, -30.13, -30.11, -31.07, -31.42, -30.69, -30.85, -31.01, -30.69, -31.35, -30.69, -30.9, -30.46, -30.08, -30.19, -30.81, -30.84, -31.08, -30.93, -31.83, -30.34, -30.31, -30.15, -30.24], \"z\": [352.0, 282.0, 183.0, 131.0, 293.0, 455.0, 45.0, 188.0, 333.0, 212.0, 425.0, 232.0, 94.0, 39.0, 433.0, 262.0, 360.0, 15.0, 15.0, 169.0, 528.0, 265.0, 114.0, 210.0, 353.0, 370.0, 413.0, 70.0, 283.0, 226.0, 90.0, 216.0, 216.0, 453.0, 276.0, 158.0, 248.0, 356.0, 153.0, 454.0, 428.0, 300.0, 360.0, 437.0, 391.0, 296.0, 159.0, 230.0, 175.0, 165.0, 116.0, 439.0, 509.0, 15.0, 63.0, 226.0, 351.0, 318.0, 88.0, 421.0, 26.0, 48.0, 341.0, 340.0, 319.0, 441.0, 15.0, 15.0, 10.0, 231.0, 231.0, 342.0, 194.0, 247.0, 428.0, 157.0, 398.0, 367.0, 370.0, 16.0, 36.0, 394.0, 367.0, 364.0, 15.0, 298.0, 421.0, 351.0, 412.0, 329.0, 348.0, 351.0, 322.0, 391.0, 418.0, 388.0, 409.0, 297.0, 12.0, 13.0, 16.0, 30.0]}],                        {\"coloraxis\": {\"colorbar\": {\"title\": {\"text\": \"color\"}}, \"colorscale\": [[0.0, \"#0d0887\"], [0.1111111111111111, \"#46039f\"], [0.2222222222222222, \"#7201a8\"], [0.3333333333333333, \"#9c179e\"], [0.4444444444444444, \"#bd3786\"], [0.5555555555555556, \"#d8576b\"], [0.6666666666666666, \"#ed7953\"], [0.7777777777777778, \"#fb9f3a\"], [0.8888888888888888, \"#fdca26\"], [1.0, \"#f0f921\"]]}, \"legend\": {\"itemsizing\": \"constant\", \"tracegroupgap\": 0}, \"margin\": {\"t\": 60}, \"scene\": {\"domain\": {\"x\": [0.0, 1.0], \"y\": [0.0, 1.0]}, \"xaxis\": {\"title\": {\"text\": \"x\"}}, \"yaxis\": {\"title\": {\"text\": \"y\"}}, \"zaxis\": {\"range\": [550, 0], \"title\": {\"text\": \"z\"}}}, \"template\": {\"data\": {\"bar\": [{\"error_x\": {\"color\": \"#2a3f5f\"}, \"error_y\": {\"color\": \"#2a3f5f\"}, \"marker\": {\"line\": {\"color\": \"#E5ECF6\", \"width\": 0.5}}, \"type\": \"bar\"}], \"barpolar\": [{\"marker\": {\"line\": {\"color\": \"#E5ECF6\", \"width\": 0.5}}, \"type\": \"barpolar\"}], \"carpet\": [{\"aaxis\": {\"endlinecolor\": \"#2a3f5f\", \"gridcolor\": \"white\", \"linecolor\": \"white\", \"minorgridcolor\": \"white\", \"startlinecolor\": \"#2a3f5f\"}, \"baxis\": {\"endlinecolor\": \"#2a3f5f\", \"gridcolor\": \"white\", \"linecolor\": \"white\", \"minorgridcolor\": \"white\", \"startlinecolor\": \"#2a3f5f\"}, \"type\": \"carpet\"}], \"choropleth\": [{\"colorbar\": {\"outlinewidth\": 0, \"ticks\": \"\"}, \"type\": \"choropleth\"}], \"contour\": [{\"colorbar\": {\"outlinewidth\": 0, \"ticks\": \"\"}, \"colorscale\": [[0.0, \"#0d0887\"], [0.1111111111111111, \"#46039f\"], [0.2222222222222222, \"#7201a8\"], [0.3333333333333333, \"#9c179e\"], [0.4444444444444444, \"#bd3786\"], [0.5555555555555556, \"#d8576b\"], [0.6666666666666666, \"#ed7953\"], [0.7777777777777778, \"#fb9f3a\"], [0.8888888888888888, \"#fdca26\"], [1.0, \"#f0f921\"]], \"type\": \"contour\"}], \"contourcarpet\": [{\"colorbar\": {\"outlinewidth\": 0, \"ticks\": \"\"}, \"type\": \"contourcarpet\"}], \"heatmap\": [{\"colorbar\": {\"outlinewidth\": 0, \"ticks\": \"\"}, \"colorscale\": [[0.0, \"#0d0887\"], [0.1111111111111111, \"#46039f\"], [0.2222222222222222, \"#7201a8\"], [0.3333333333333333, \"#9c179e\"], [0.4444444444444444, \"#bd3786\"], [0.5555555555555556, \"#d8576b\"], [0.6666666666666666, \"#ed7953\"], [0.7777777777777778, \"#fb9f3a\"], [0.8888888888888888, \"#fdca26\"], [1.0, \"#f0f921\"]], \"type\": \"heatmap\"}], \"heatmapgl\": [{\"colorbar\": {\"outlinewidth\": 0, \"ticks\": \"\"}, \"colorscale\": [[0.0, \"#0d0887\"], [0.1111111111111111, \"#46039f\"], [0.2222222222222222, \"#7201a8\"], [0.3333333333333333, \"#9c179e\"], [0.4444444444444444, \"#bd3786\"], [0.5555555555555556, \"#d8576b\"], [0.6666666666666666, \"#ed7953\"], [0.7777777777777778, \"#fb9f3a\"], [0.8888888888888888, \"#fdca26\"], [1.0, \"#f0f921\"]], \"type\": \"heatmapgl\"}], \"histogram\": [{\"marker\": {\"colorbar\": {\"outlinewidth\": 0, \"ticks\": \"\"}}, \"type\": \"histogram\"}], \"histogram2d\": [{\"colorbar\": {\"outlinewidth\": 0, \"ticks\": \"\"}, \"colorscale\": [[0.0, \"#0d0887\"], [0.1111111111111111, \"#46039f\"], [0.2222222222222222, \"#7201a8\"], [0.3333333333333333, \"#9c179e\"], [0.4444444444444444, \"#bd3786\"], [0.5555555555555556, \"#d8576b\"], [0.6666666666666666, \"#ed7953\"], [0.7777777777777778, \"#fb9f3a\"], [0.8888888888888888, \"#fdca26\"], [1.0, \"#f0f921\"]], \"type\": \"histogram2d\"}], \"histogram2dcontour\": [{\"colorbar\": {\"outlinewidth\": 0, \"ticks\": \"\"}, \"colorscale\": [[0.0, \"#0d0887\"], [0.1111111111111111, \"#46039f\"], [0.2222222222222222, \"#7201a8\"], [0.3333333333333333, \"#9c179e\"], [0.4444444444444444, \"#bd3786\"], [0.5555555555555556, \"#d8576b\"], [0.6666666666666666, \"#ed7953\"], [0.7777777777777778, \"#fb9f3a\"], [0.8888888888888888, \"#fdca26\"], [1.0, \"#f0f921\"]], \"type\": \"histogram2dcontour\"}], \"mesh3d\": [{\"colorbar\": {\"outlinewidth\": 0, \"ticks\": \"\"}, \"type\": \"mesh3d\"}], \"parcoords\": [{\"line\": {\"colorbar\": {\"outlinewidth\": 0, \"ticks\": \"\"}}, \"type\": \"parcoords\"}], \"pie\": [{\"automargin\": true, \"type\": \"pie\"}], \"scatter\": [{\"marker\": {\"colorbar\": {\"outlinewidth\": 0, \"ticks\": \"\"}}, \"type\": \"scatter\"}], \"scatter3d\": [{\"line\": {\"colorbar\": {\"outlinewidth\": 0, \"ticks\": \"\"}}, \"marker\": {\"colorbar\": {\"outlinewidth\": 0, \"ticks\": \"\"}}, \"type\": \"scatter3d\"}], \"scattercarpet\": [{\"marker\": {\"colorbar\": {\"outlinewidth\": 0, \"ticks\": \"\"}}, \"type\": \"scattercarpet\"}], \"scattergeo\": [{\"marker\": {\"colorbar\": {\"outlinewidth\": 0, \"ticks\": \"\"}}, \"type\": \"scattergeo\"}], \"scattergl\": [{\"marker\": {\"colorbar\": {\"outlinewidth\": 0, \"ticks\": \"\"}}, \"type\": \"scattergl\"}], \"scattermapbox\": [{\"marker\": {\"colorbar\": {\"outlinewidth\": 0, \"ticks\": \"\"}}, \"type\": \"scattermapbox\"}], \"scatterpolar\": [{\"marker\": {\"colorbar\": {\"outlinewidth\": 0, \"ticks\": \"\"}}, \"type\": \"scatterpolar\"}], \"scatterpolargl\": [{\"marker\": {\"colorbar\": {\"outlinewidth\": 0, \"ticks\": \"\"}}, \"type\": \"scatterpolargl\"}], \"scatterternary\": [{\"marker\": {\"colorbar\": {\"outlinewidth\": 0, \"ticks\": \"\"}}, \"type\": \"scatterternary\"}], \"surface\": [{\"colorbar\": {\"outlinewidth\": 0, \"ticks\": \"\"}, \"colorscale\": [[0.0, \"#0d0887\"], [0.1111111111111111, \"#46039f\"], [0.2222222222222222, \"#7201a8\"], [0.3333333333333333, \"#9c179e\"], [0.4444444444444444, \"#bd3786\"], [0.5555555555555556, \"#d8576b\"], [0.6666666666666666, \"#ed7953\"], [0.7777777777777778, \"#fb9f3a\"], [0.8888888888888888, \"#fdca26\"], [1.0, \"#f0f921\"]], \"type\": \"surface\"}], \"table\": [{\"cells\": {\"fill\": {\"color\": \"#EBF0F8\"}, \"line\": {\"color\": \"white\"}}, \"header\": {\"fill\": {\"color\": \"#C8D4E3\"}, \"line\": {\"color\": \"white\"}}, \"type\": \"table\"}]}, \"layout\": {\"annotationdefaults\": {\"arrowcolor\": \"#2a3f5f\", \"arrowhead\": 0, \"arrowwidth\": 1}, \"coloraxis\": {\"colorbar\": {\"outlinewidth\": 0, \"ticks\": \"\"}}, \"colorscale\": {\"diverging\": [[0, \"#8e0152\"], [0.1, \"#c51b7d\"], [0.2, \"#de77ae\"], [0.3, \"#f1b6da\"], [0.4, \"#fde0ef\"], [0.5, \"#f7f7f7\"], [0.6, \"#e6f5d0\"], [0.7, \"#b8e186\"], [0.8, \"#7fbc41\"], [0.9, \"#4d9221\"], [1, \"#276419\"]], \"sequential\": [[0.0, \"#0d0887\"], [0.1111111111111111, \"#46039f\"], [0.2222222222222222, \"#7201a8\"], [0.3333333333333333, \"#9c179e\"], [0.4444444444444444, \"#bd3786\"], [0.5555555555555556, \"#d8576b\"], [0.6666666666666666, \"#ed7953\"], [0.7777777777777778, \"#fb9f3a\"], [0.8888888888888888, \"#fdca26\"], [1.0, \"#f0f921\"]], \"sequentialminus\": [[0.0, \"#0d0887\"], [0.1111111111111111, \"#46039f\"], [0.2222222222222222, \"#7201a8\"], [0.3333333333333333, \"#9c179e\"], [0.4444444444444444, \"#bd3786\"], [0.5555555555555556, \"#d8576b\"], [0.6666666666666666, \"#ed7953\"], [0.7777777777777778, \"#fb9f3a\"], [0.8888888888888888, \"#fdca26\"], [1.0, \"#f0f921\"]]}, \"colorway\": [\"#636efa\", \"#EF553B\", \"#00cc96\", \"#ab63fa\", \"#FFA15A\", \"#19d3f3\", \"#FF6692\", \"#B6E880\", \"#FF97FF\", \"#FECB52\"], \"font\": {\"color\": \"#2a3f5f\"}, \"geo\": {\"bgcolor\": \"white\", \"lakecolor\": \"white\", \"landcolor\": \"#E5ECF6\", \"showlakes\": true, \"showland\": true, \"subunitcolor\": \"white\"}, \"hoverlabel\": {\"align\": \"left\"}, \"hovermode\": \"closest\", \"mapbox\": {\"style\": \"light\"}, \"paper_bgcolor\": \"white\", \"plot_bgcolor\": \"#E5ECF6\", \"polar\": {\"angularaxis\": {\"gridcolor\": \"white\", \"linecolor\": \"white\", \"ticks\": \"\"}, \"bgcolor\": \"#E5ECF6\", \"radialaxis\": {\"gridcolor\": \"white\", \"linecolor\": \"white\", \"ticks\": \"\"}}, \"scene\": {\"xaxis\": {\"backgroundcolor\": \"#E5ECF6\", \"gridcolor\": \"white\", \"gridwidth\": 2, \"linecolor\": \"white\", \"showbackground\": true, \"ticks\": \"\", \"zerolinecolor\": \"white\"}, \"yaxis\": {\"backgroundcolor\": \"#E5ECF6\", \"gridcolor\": \"white\", \"gridwidth\": 2, \"linecolor\": \"white\", \"showbackground\": true, \"ticks\": \"\", \"zerolinecolor\": \"white\"}, \"zaxis\": {\"backgroundcolor\": \"#E5ECF6\", \"gridcolor\": \"white\", \"gridwidth\": 2, \"linecolor\": \"white\", \"showbackground\": true, \"ticks\": \"\", \"zerolinecolor\": \"white\"}}, \"shapedefaults\": {\"line\": {\"color\": \"#2a3f5f\"}}, \"ternary\": {\"aaxis\": {\"gridcolor\": \"white\", \"linecolor\": \"white\", \"ticks\": \"\"}, \"baxis\": {\"gridcolor\": \"white\", \"linecolor\": \"white\", \"ticks\": \"\"}, \"bgcolor\": \"#E5ECF6\", \"caxis\": {\"gridcolor\": \"white\", \"linecolor\": \"white\", \"ticks\": \"\"}}, \"title\": {\"x\": 0.05}, \"xaxis\": {\"automargin\": true, \"gridcolor\": \"white\", \"linecolor\": \"white\", \"ticks\": \"\", \"title\": {\"standoff\": 15}, \"zerolinecolor\": \"white\", \"zerolinewidth\": 2}, \"yaxis\": {\"automargin\": true, \"gridcolor\": \"white\", \"linecolor\": \"white\", \"ticks\": \"\", \"title\": {\"standoff\": 15}, \"zerolinecolor\": \"white\", \"zerolinewidth\": 2}}}},                        {\"responsive\": true}                    ).then(function(){\n",
       "                            \n",
       "var gd = document.getElementById('b7f15a85-ed3c-4448-9f72-8546db79f344');\n",
       "var x = new MutationObserver(function (mutations, observer) {{\n",
       "        var display = window.getComputedStyle(gd).display;\n",
       "        if (!display || display === 'none') {{\n",
       "            console.log([gd, 'removed!']);\n",
       "            Plotly.purge(gd);\n",
       "            observer.disconnect();\n",
       "        }}\n",
       "}});\n",
       "\n",
       "// Listen for the removal of the full notebook cells\n",
       "var notebookContainer = gd.closest('#notebook-container');\n",
       "if (notebookContainer) {{\n",
       "    x.observe(notebookContainer, {childList: true});\n",
       "}}\n",
       "\n",
       "// Listen for the clearing of the current output cell\n",
       "var outputEl = gd.closest('.output');\n",
       "if (outputEl) {{\n",
       "    x.observe(outputEl, {childList: true});\n",
       "}}\n",
       "\n",
       "                        })                };                });            </script>        </div>"
      ]
     },
     "metadata": {},
     "output_type": "display_data"
    }
   ],
   "source": [
    "#3D graph\n",
    "\n",
    "zone_cmt1 = []\n",
    "zone_cmt2 = []\n",
    "\n",
    "for line in cmt_data:\n",
    "    coordinates = Point(float(line[0]),float(line[1]))\n",
    "\n",
    "    if coordinates.within(zonea):\n",
    "        zone_cmt1.append(line[0:15])\n",
    "        \n",
    "    if coordinates.within(zoneb):\n",
    "        zone_cmt2.append(line[0:15])\n",
    "        \n",
    "x=[]\n",
    "y=[]\n",
    "z=[]\n",
    "mag=[]\n",
    "\n",
    "for line in zone_cmt1:\n",
    "    x.append(float(line[0]))\n",
    "    y.append(float(line[1]))\n",
    "    z.append(float(line[2]))\n",
    "    mag.append(float(line[14]))\n",
    "\n",
    "for line in zone_cmt2:\n",
    "    x.append(float(line[0])+360)\n",
    "    y.append(float(line[1]))\n",
    "    z.append(float(line[2]))\n",
    "    mag.append(float(line[14]))\n",
    "    \n",
    "px.scatter_3d(x=x, y=y, z=z, size=mag, color=mag, range_z=[550,0])"
   ]
  },
  {
   "cell_type": "code",
   "execution_count": 27,
   "metadata": {},
   "outputs": [],
   "source": [
    "#read shallow earthquake data\n",
    "zone_cmt = []\n",
    "dep = 50\n",
    "\n",
    "for line in cmt_data:\n",
    "    coordinates = Point(float(line[0]),float(line[1]))\n",
    "  \n",
    "    if coordinates.within(zonea):\n",
    "        if float(line[2]) <= dep:\n",
    "            zone_cmt.append(line[0:15])\n",
    "            \n",
    "    if coordinates.within(zoneb):\n",
    "        if float(line[2]) <= dep:\n",
    "            zone_cmt.append(line[0:15])\n"
   ]
  },
  {
   "cell_type": "code",
   "execution_count": 28,
   "metadata": {},
   "outputs": [
    {
     "name": "stdout",
     "output_type": "stream",
     "text": [
      "-0.011259 0.009391 0.001766 0.017087 -0.002503 0.054962\n"
     ]
    }
   ],
   "source": [
    "#moment tensor summation\n",
    "mrr = 0\n",
    "mtt = 0\n",
    "mpp = 0\n",
    "mrt = 0\n",
    "mrp = 0 \n",
    "mtp = 0\n",
    "\n",
    "for k in range(len(zone_cmt)):\n",
    "    mrr += float(zone_cmt[k][3])*(10**(float(zone_cmt[k][9])-7))\n",
    "    mtt += float(zone_cmt[k][4])*(10**(float(zone_cmt[k][9])-7))\n",
    "    mpp += float(zone_cmt[k][5])*(10**(float(zone_cmt[k][9])-7))\n",
    "    mrt += float(zone_cmt[k][6])*(10**(float(zone_cmt[k][9])-7))\n",
    "    mrp += float(zone_cmt[k][7])*(10**(float(zone_cmt[k][9])-7))\n",
    "    mtp += float(zone_cmt[k][8])*(10**(float(zone_cmt[k][9])-7))\n",
    "\n",
    "print(mrr/(10**20), mtt/(10**20), mpp/(10**20), mrt/(10**20), mrp/(10**20), mtp/(10**20))"
   ]
  },
  {
   "cell_type": "code",
   "execution_count": 29,
   "metadata": {},
   "outputs": [
    {
     "name": "stdout",
     "output_type": "stream",
     "text": [
      "Shallow velocity =  0.06275218559447794 mm/yr\n"
     ]
    }
   ],
   "source": [
    "#velocity\n",
    "m0_sum = 0\n",
    "for k in range(len(zone_cmt)):\n",
    "    m0_sum += float(zone_cmt[k][13])*(10**(-7))\n",
    "miu = 3.3*(10**10)\n",
    "fault_length = 1508956 #m\n",
    "depth = dep*1000 #m\n",
    "dip = 74*(np.pi/180) #radian\n",
    "w = depth/np.sin(dip) #m\n",
    "\n",
    "t = 44+10/12 #years\n",
    "t_secs = t*365.25*24*60*60\n",
    "\n",
    "velocity = m0_sum/(miu*fault_length*w*t_secs)\n",
    "velocity_mm =(velocity*1000)*(365.25 * 24 * 60 * 60)\n",
    "print('Shallow velocity = ',velocity_mm ,'mm/yr')"
   ]
  },
  {
   "cell_type": "code",
   "execution_count": 32,
   "metadata": {},
   "outputs": [
    {
     "name": "stdout",
     "output_type": "stream",
     "text": [
      "strain rate 1 = 0.017872443015889923 ppm/year\n",
      "strain rate 2 = -0.01739584453546619 ppm/year\n"
     ]
    }
   ],
   "source": [
    "#strain rate\n",
    "area = 170.182*(10**9)\n",
    "vol = area * depth\n",
    "D_1 = 4.5\n",
    "D_2 = -4.38\n",
    "\n",
    "strain_rate_1 = D_1*(10**20)/(2*miu*vol*t)*(10**6)\n",
    "strain_rate_2 = D_2*(10**20)/(2*miu*vol*t)*(10**6)\n",
    "print('strain rate 1 =',strain_rate_1 ,'ppm/year')\n",
    "print('strain rate 2 =',strain_rate_2 ,'ppm/year')"
   ]
  },
  {
   "cell_type": "code",
   "execution_count": 31,
   "metadata": {},
   "outputs": [
    {
     "name": "stdout",
     "output_type": "stream",
     "text": [
      "Highest magnitude:  6.7\n",
      "Lowest magnitude:  5.0\n",
      "Number of earthquakes 102\n",
      "[102, 102, 48, 22, 4, 0, 0]\n"
     ]
    },
    {
     "name": "stderr",
     "output_type": "stream",
     "text": [
      "<ipython-input-31-f49a1bd7c8e4>:62: RuntimeWarning:\n",
      "\n",
      "divide by zero encountered in log10\n",
      "\n"
     ]
    },
    {
     "name": "stdout",
     "output_type": "stream",
     "text": [
      "[nan nan]\n"
     ]
    },
    {
     "data": {
      "image/png": "[encoded data removed]",
      "text/plain": [
       "<Figure size 432x288 with 1 Axes>"
      ]
     },
     "metadata": {
      "needs_background": "light"
     },
     "output_type": "display_data"
    },
    {
     "name": "stdout",
     "output_type": "stream",
     "text": [
      "b-value = nan\n"
     ]
    }
   ],
   "source": [
    "#freq mag plot\n",
    "zone_cmt = []\n",
    "\n",
    "mmax = np.str_(0)\n",
    "mmin = np.str_(6)\n",
    "for line in cmt_data:\n",
    "    coordinates = Point(float(line[0]),float(line[1]))\n",
    "\n",
    "    if coordinates.within(zonea):\n",
    "        zone_cmt.append(line[0:15])\n",
    "    if coordinates.within(zoneb):\n",
    "        zone_cmt.append(line[0:15])\n",
    "\n",
    "for line in zone_cmt:   \n",
    "        if line[14] > mmax:\n",
    "            mmax = line[14]\n",
    "        if line[14] < mmin:\n",
    "            mmin = line[14]\n",
    "print('Highest magnitude: ',mmax)\n",
    "print('Lowest magnitude: ',mmin)\n",
    "\n",
    "count4 = 0\n",
    "count4_5 = 0\n",
    "count5 = 0\n",
    "count5_5 = 0\n",
    "count6 = 0\n",
    "count6_5 = 0\n",
    "count7 = 0\n",
    "count7_5 = 0\n",
    "count8 = 0\n",
    "count8_5 = 0\n",
    "\n",
    "for k in range(len(zone_cmt)):\n",
    "    if float(zone_cmt[k][14]) >= 4:\n",
    "        count4 += 1\n",
    "        if float(zone_cmt[k][14]) >= 4.5:\n",
    "            count4_5 += 1\n",
    "            if float(zone_cmt[k][14]) >= 5:\n",
    "                count5 += 1\n",
    "                if float(zone_cmt[k][14]) >= 5.5:\n",
    "                    count5_5 +=1\n",
    "                    if float(zone_cmt[k][14]) >= 6:\n",
    "                        count6 +=1\n",
    "                        if float(zone_cmt[k][14]) >= 6.5:\n",
    "                            count6_5 +=1\n",
    "                            if float(zone_cmt[k][14]) >= 7:\n",
    "                                count7 +=1\n",
    "                                if float(zone_cmt[k][14]) >= 7.5:\n",
    "                                    count7_5 +=1\n",
    "                                    if float(zone_cmt[k][14]) >= 8:\n",
    "                                        count8 +=1\n",
    "                                        if float(zone_cmt[k][14]) >= 8.5:\n",
    "                                            count8_5 +=1\n",
    "                    \n",
    "            \n",
    "print('Number of earthquakes',len(zone_cmt))\n",
    "\n",
    "x = [4.5, 5, 5.5, 6, 6.5, 7, 7.5]\n",
    "y = [count4_5, count5, count5_5, count6, count6_5, count7, count7_5]\n",
    "print(y)\n",
    "plt.scatter(x,y)\n",
    "p = np.polyfit(x, np.log10(y), 1)\n",
    "print(p)\n",
    "\n",
    "plt.semilogy(x, 10**(p[0]*np.array(x) + p[1]), 'g--')\n",
    "plt.yscale('log')\n",
    "plt.ylim([0.9, 10000])\n",
    "plt.title(\"Frequency magnitude plot\")\n",
    "plt.xlabel(\"Mw\")\n",
    "plt.ylabel(\"Number of Earthquakes\")\n",
    "plt.show()\n",
    "\n",
    "print('b-value =', -p[0])"
   ]
  },
  {
   "cell_type": "code",
   "execution_count": null,
   "metadata": {},
   "outputs": [],
   "source": []
  }
 ],
 "metadata": {
  "kernelspec": {
   "display_name": "Python 3",
   "language": "python",
   "name": "python3"
  },
  "language_info": {
   "codemirror_mode": {
    "name": "ipython",
    "version": 3
   },
   "file_extension": ".py",
   "mimetype": "text/x-python",
   "name": "python",
   "nbconvert_exporter": "python",
   "pygments_lexer": "ipython3",
   "version": "3.8.3"
  }
 },
 "nbformat": 4,
 "nbformat_minor": 4
}
