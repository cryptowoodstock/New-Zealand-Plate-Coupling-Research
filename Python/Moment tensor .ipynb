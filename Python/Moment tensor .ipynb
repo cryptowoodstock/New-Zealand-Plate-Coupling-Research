{
 "cells": [
  {
   "cell_type": "code",
   "execution_count": 1,
   "metadata": {},
   "outputs": [
    {
     "name": "stdout",
     "output_type": "stream",
     "text": [
      "mrr =  1.4855797999999994e+21\n",
      "mtt =  1.2893775999999992e+21\n",
      "mpp =  -2.776042799999997e+21\n",
      "mrt =  6.885841999999994e+20\n",
      "mrp =  -5.1238199999999476e+19\n",
      "mtp =  -1.497086400000001e+21\n"
     ]
    }
   ],
   "source": [
    "#all NZ data\n",
    "import numpy as np\n",
    "\n",
    "with open('meca.txt') as f:\n",
    "    array = [[x for x in line.split()] for line in f]\n",
    "    \n",
    "cmt_data = np.array(array)   \n",
    "\n",
    "mrr = 0\n",
    "mtt = 0\n",
    "mpp = 0\n",
    "mrt = 0\n",
    "mrp = 0 \n",
    "mtp = 0\n",
    "\n",
    "for i in range(len(cmt_data)):\n",
    "    mrr += float(cmt_data[i][3])*(10**(float(cmt_data[i][9])-7))\n",
    "    mtt += float(cmt_data[i][4])*(10**(float(cmt_data[i][9])-7))\n",
    "    mpp += float(cmt_data[i][5])*(10**(float(cmt_data[i][9])-7))\n",
    "    mrt += float(cmt_data[i][6])*(10**(float(cmt_data[i][9])-7))\n",
    "    mrp += float(cmt_data[i][7])*(10**(float(cmt_data[i][9])-7))\n",
    "    mtp += float(cmt_data[i][8])*(10**(float(cmt_data[i][9])-7))\n",
    "    \n",
    "print('mrr = ', mrr)\n",
    "print('mtt = ', mtt)   \n",
    "print('mpp = ', mpp)\n",
    "print('mrt = ', mrt)\n",
    "print('mrp = ', mrp)\n",
    "print('mtp = ', mtp)"
   ]
  },
  {
   "cell_type": "code",
   "execution_count": 2,
   "metadata": {},
   "outputs": [
    {
     "name": "stdout",
     "output_type": "stream",
     "text": [
      "mrr =  -9.25576e+19\n",
      "mtt =  1.9111969999999992e+20\n",
      "mpp =  -9.823480000000023e+19\n",
      "mrt =  -1.7069e+18\n",
      "mrp =  3.28276e+19\n",
      "mtp =  -1.6500339999999993e+20\n"
     ]
    }
   ],
   "source": [
    "#testing\n",
    "import numpy as np\n",
    "\n",
    "with open('TEST_DATA.txt') as f:\n",
    "    array = [[x for x in line.split()] for line in f]\n",
    "    \n",
    "cmt_data = np.array(array)   \n",
    "\n",
    "mrr = 0\n",
    "mtt = 0\n",
    "mpp = 0\n",
    "mrt = 0\n",
    "mrp = 0 \n",
    "mtp = 0\n",
    "\n",
    "for i in range(len(cmt_data)):\n",
    "    mrr += float(cmt_data[i][3])*(10**(float(cmt_data[i][9])-7))\n",
    "    mtt += float(cmt_data[i][4])*(10**(float(cmt_data[i][9])-7))\n",
    "    mpp += float(cmt_data[i][5])*(10**(float(cmt_data[i][9])-7))\n",
    "    mrt += float(cmt_data[i][6])*(10**(float(cmt_data[i][9])-7))\n",
    "    mrp += float(cmt_data[i][7])*(10**(float(cmt_data[i][9])-7))\n",
    "    mtp += float(cmt_data[i][8])*(10**(float(cmt_data[i][9])-7))\n",
    "    \n",
    "print('mrr = ', mrr)\n",
    "print('mtt = ', mtt)   \n",
    "print('mpp = ', mpp)\n",
    "print('mrt = ', mrt)\n",
    "print('mrp = ', mrp)\n",
    "print('mtp = ', mtp)"
   ]
  },
  {
   "cell_type": "code",
   "execution_count": null,
   "metadata": {},
   "outputs": [],
   "source": []
  }
 ],
 "metadata": {
  "kernelspec": {
   "display_name": "Python 3",
   "language": "python",
   "name": "python3"
  },
  "language_info": {
   "codemirror_mode": {
    "name": "ipython",
    "version": 3
   },
   "file_extension": ".py",
   "mimetype": "text/x-python",
   "name": "python",
   "nbconvert_exporter": "python",
   "pygments_lexer": "ipython3",
   "version": "3.8.3"
  }
 },
 "nbformat": 4,
 "nbformat_minor": 4
}
